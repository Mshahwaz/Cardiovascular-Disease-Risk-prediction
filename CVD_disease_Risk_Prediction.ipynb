{
  "nbformat": 4,
  "nbformat_minor": 0,
  "metadata": {
    "colab": {
      "name": "CVD disease Risk Prediction.ipynb",
      "provenance": [],
      "collapsed_sections": [
        "8KGI7WSsHMC0"
      ]
    },
    "kernelspec": {
      "name": "python3",
      "display_name": "Python 3"
    },
    "language_info": {
      "name": "python"
    }
  },
  "cells": [
    {
      "cell_type": "markdown",
      "source": [
        "### Importing the Dependencies"
      ],
      "metadata": {
        "id": "KRYbIAX_vSFY"
      }
    },
    {
      "cell_type": "code",
      "source": [
        "import numpy as np\n",
        "import pandas as pd\n",
        "from sklearn.preprocessing import StandardScaler\n",
        "from sklearn.model_selection import train_test_split\n"
      ],
      "metadata": {
        "id": "4Fz3UCYVvZ_1"
      },
      "execution_count": 1,
      "outputs": []
    },
    {
      "cell_type": "markdown",
      "source": [
        "###reading csv file from pandas dataframe"
      ],
      "metadata": {
        "id": "yXfgC7yFA5y3"
      }
    },
    {
      "cell_type": "code",
      "source": [
        "heart_data=pd.read_csv('/content/heart_statlog_cleveland_hungary_final2.csv')"
      ],
      "metadata": {
        "id": "NsnuiSwm_OZr"
      },
      "execution_count": 2,
      "outputs": []
    },
    {
      "cell_type": "markdown",
      "source": [
        "### cheching no of rows and columns in dataset"
      ],
      "metadata": {
        "id": "aa7_9KOJAnzx"
      }
    },
    {
      "cell_type": "code",
      "source": [
        "heart_data.shape"
      ],
      "metadata": {
        "colab": {
          "base_uri": "https://localhost:8080/"
        },
        "id": "FFDF6EVO_mGN",
        "outputId": "096b6edc-c0c1-41fd-c902-e4cf0f4442d9"
      },
      "execution_count": 3,
      "outputs": [
        {
          "output_type": "execute_result",
          "data": {
            "text/plain": [
              "(1190, 12)"
            ]
          },
          "metadata": {},
          "execution_count": 3
        }
      ]
    },
    {
      "cell_type": "code",
      "source": [
        "heart_data.columns"
      ],
      "metadata": {
        "colab": {
          "base_uri": "https://localhost:8080/"
        },
        "id": "vQEkG2KQLrUL",
        "outputId": "ea3467d7-da15-40ac-e4bc-07b0b8940a2f"
      },
      "execution_count": 5,
      "outputs": [
        {
          "output_type": "execute_result",
          "data": {
            "text/plain": [
              "Index(['age', 'sex', 'chest_pain_type', 'resting_bp_s', 'cholesterol',\n",
              "       'fasting_blood_sugar', 'resting_ecg', 'max_heart_rate',\n",
              "       'exercise_angina', 'oldpeak', 'ST_slope', 'target'],\n",
              "      dtype='object')"
            ]
          },
          "metadata": {},
          "execution_count": 5
        }
      ]
    },
    {
      "cell_type": "markdown",
      "source": [
        "### Getting some info about dataset"
      ],
      "metadata": {
        "id": "M-yvn_pMBK-_"
      }
    },
    {
      "cell_type": "code",
      "source": [
        "heart_data.info()"
      ],
      "metadata": {
        "colab": {
          "base_uri": "https://localhost:8080/"
        },
        "id": "J5xCpJl8_tA0",
        "outputId": "3914e6ee-6e90-4755-8890-bc50df9c63b1"
      },
      "execution_count": 6,
      "outputs": [
        {
          "output_type": "stream",
          "name": "stdout",
          "text": [
            "<class 'pandas.core.frame.DataFrame'>\n",
            "RangeIndex: 1190 entries, 0 to 1189\n",
            "Data columns (total 12 columns):\n",
            " #   Column               Non-Null Count  Dtype  \n",
            "---  ------               --------------  -----  \n",
            " 0   age                  1190 non-null   int64  \n",
            " 1   sex                  1190 non-null   int64  \n",
            " 2   chest_pain_type      1190 non-null   int64  \n",
            " 3   resting_bp_s         1190 non-null   int64  \n",
            " 4   cholesterol          1190 non-null   int64  \n",
            " 5   fasting_blood_sugar  1190 non-null   int64  \n",
            " 6   resting_ecg          1190 non-null   int64  \n",
            " 7   max_heart_rate       1190 non-null   int64  \n",
            " 8   exercise_angina      1190 non-null   int64  \n",
            " 9   oldpeak              1190 non-null   float64\n",
            " 10  ST_slope             1190 non-null   int64  \n",
            " 11  target               1190 non-null   int64  \n",
            "dtypes: float64(1), int64(11)\n",
            "memory usage: 111.7 KB\n"
          ]
        }
      ]
    },
    {
      "cell_type": "markdown",
      "source": [
        "### cheching for missing values\n"
      ],
      "metadata": {
        "id": "mbK_LfvQCLVV"
      }
    },
    {
      "cell_type": "code",
      "source": [
        "heart_data.isnull().sum()"
      ],
      "metadata": {
        "colab": {
          "base_uri": "https://localhost:8080/"
        },
        "id": "dZUwBxr8__jA",
        "outputId": "67df6c5e-3b10-463e-a8f1-f86ad93ac98b"
      },
      "execution_count": 4,
      "outputs": [
        {
          "output_type": "execute_result",
          "data": {
            "text/plain": [
              "age                    0\n",
              "sex                    0\n",
              "chest_pain_type        0\n",
              "resting_bp_s           0\n",
              "cholesterol            0\n",
              "fasting_blood_sugar    0\n",
              "resting_ecg            0\n",
              "max_heart_rate         0\n",
              "exercise_angina        0\n",
              "oldpeak                0\n",
              "ST_slope               0\n",
              "target                 0\n",
              "dtype: int64"
            ]
          },
          "metadata": {},
          "execution_count": 4
        }
      ]
    },
    {
      "cell_type": "markdown",
      "source": [
        "###Analyse the distribution of data"
      ],
      "metadata": {
        "id": "ISIbLY-MGahN"
      }
    },
    {
      "cell_type": "code",
      "source": [
        "import matplotlib.pyplot as plt\n",
        "import seaborn as sns"
      ],
      "metadata": {
        "id": "SDMTbLGjGZY8"
      },
      "execution_count": 7,
      "outputs": []
    },
    {
      "cell_type": "code",
      "source": [
        "fig, ax=plt.subplots(figsize=(8,8))\n",
        "sns.distplot(heart_data. fasting_blood_sugar)"
      ],
      "metadata": {
        "colab": {
          "base_uri": "https://localhost:8080/",
          "height": 570
        },
        "id": "0bqNsZN9HS6i",
        "outputId": "f3c4b18d-72a5-4d61-8de0-e4697b399b83"
      },
      "execution_count": 9,
      "outputs": [
        {
          "output_type": "stream",
          "name": "stderr",
          "text": [
            "/usr/local/lib/python3.7/dist-packages/seaborn/distributions.py:2619: FutureWarning: `distplot` is a deprecated function and will be removed in a future version. Please adapt your code to use either `displot` (a figure-level function with similar flexibility) or `histplot` (an axes-level function for histograms).\n",
            "  warnings.warn(msg, FutureWarning)\n"
          ]
        },
        {
          "output_type": "execute_result",
          "data": {
            "text/plain": [
              "<matplotlib.axes._subplots.AxesSubplot at 0x7f51d048f350>"
            ]
          },
          "metadata": {},
          "execution_count": 9
        },
        {
          "output_type": "display_data",
          "data": {
            "image/png": "[encoded data removed]",
            "text/plain": [
              "<Figure size 576x576 with 1 Axes>"
            ]
          },
          "metadata": {
            "needs_background": "light"
          }
        }
      ]
    },
    {
      "cell_type": "code",
      "source": [
        "fig, ax=plt.subplots(figsize=(8,8))\n",
        "sns.distplot(heart_data. chest_pain_type)"
      ],
      "metadata": {
        "colab": {
          "base_uri": "https://localhost:8080/",
          "height": 570
        },
        "id": "rA2HrOyxMoSk",
        "outputId": "7810d361-ade6-416f-ab3f-411114279f98"
      },
      "execution_count": 22,
      "outputs": [
        {
          "output_type": "stream",
          "name": "stderr",
          "text": [
            "/usr/local/lib/python3.7/dist-packages/seaborn/distributions.py:2619: FutureWarning: `distplot` is a deprecated function and will be removed in a future version. Please adapt your code to use either `displot` (a figure-level function with similar flexibility) or `histplot` (an axes-level function for histograms).\n",
            "  warnings.warn(msg, FutureWarning)\n"
          ]
        },
        {
          "output_type": "execute_result",
          "data": {
            "text/plain": [
              "<matplotlib.axes._subplots.AxesSubplot at 0x7f64fcb22fd0>"
            ]
          },
          "metadata": {},
          "execution_count": 22
        },
        {
          "output_type": "display_data",
          "data": {
            "image/png": "[encoded data removed]",
            "text/plain": [
              "<Figure size 576x576 with 1 Axes>"
            ]
          },
          "metadata": {
            "needs_background": "light"
          }
        }
      ]
    },
    {
      "cell_type": "code",
      "source": [
        "fig, ax=plt.subplots(figsize=(8,8))\n",
        "sns.distplot(heart_data. resting_bp_s)"
      ],
      "metadata": {
        "colab": {
          "base_uri": "https://localhost:8080/",
          "height": 570
        },
        "id": "Eb5lWocIM2k6",
        "outputId": "9dcf26b8-b838-4f8e-a2af-c10ba234dca4"
      },
      "execution_count": 23,
      "outputs": [
        {
          "output_type": "stream",
          "name": "stderr",
          "text": [
            "/usr/local/lib/python3.7/dist-packages/seaborn/distributions.py:2619: FutureWarning: `distplot` is a deprecated function and will be removed in a future version. Please adapt your code to use either `displot` (a figure-level function with similar flexibility) or `histplot` (an axes-level function for histograms).\n",
            "  warnings.warn(msg, FutureWarning)\n"
          ]
        },
        {
          "output_type": "execute_result",
          "data": {
            "text/plain": [
              "<matplotlib.axes._subplots.AxesSubplot at 0x7f64fca87950>"
            ]
          },
          "metadata": {},
          "execution_count": 23
        },
        {
          "output_type": "display_data",
          "data": {
            "image/png": "[encoded data removed]",
            "text/plain": [
              "<Figure size 576x576 with 1 Axes>"
            ]
          },
          "metadata": {
            "needs_background": "light"
          }
        }
      ]
    },
    {
      "cell_type": "code",
      "source": [
        "fig, ax=plt.subplots(figsize=(8,8))\n",
        "sns.distplot(heart_data. resting_ecg)"
      ],
      "metadata": {
        "colab": {
          "base_uri": "https://localhost:8080/",
          "height": 570
        },
        "id": "P801fJylND2y",
        "outputId": "d978cab6-bf3b-4416-90f4-ae6c55c6a1cc"
      },
      "execution_count": 24,
      "outputs": [
        {
          "output_type": "stream",
          "name": "stderr",
          "text": [
            "/usr/local/lib/python3.7/dist-packages/seaborn/distributions.py:2619: FutureWarning: `distplot` is a deprecated function and will be removed in a future version. Please adapt your code to use either `displot` (a figure-level function with similar flexibility) or `histplot` (an axes-level function for histograms).\n",
            "  warnings.warn(msg, FutureWarning)\n"
          ]
        },
        {
          "output_type": "execute_result",
          "data": {
            "text/plain": [
              "<matplotlib.axes._subplots.AxesSubplot at 0x7f64fc95ecd0>"
            ]
          },
          "metadata": {},
          "execution_count": 24
        },
        {
          "output_type": "display_data",
          "data": {
            "image/png": "[encoded data removed]",
            "text/plain": [
              "<Figure size 576x576 with 1 Axes>"
            ]
          },
          "metadata": {
            "needs_background": "light"
          }
        }
      ]
    },
    {
      "cell_type": "code",
      "source": [
        "fig, ax=plt.subplots(figsize=(8,8))\n",
        "sns.distplot(heart_data. max_heart_rate)"
      ],
      "metadata": {
        "colab": {
          "base_uri": "https://localhost:8080/",
          "height": 570
        },
        "id": "2-XWOeTZNUOZ",
        "outputId": "c324024f-56b1-4ecf-a2f6-e9d775dbb387"
      },
      "execution_count": 25,
      "outputs": [
        {
          "output_type": "stream",
          "name": "stderr",
          "text": [
            "/usr/local/lib/python3.7/dist-packages/seaborn/distributions.py:2619: FutureWarning: `distplot` is a deprecated function and will be removed in a future version. Please adapt your code to use either `displot` (a figure-level function with similar flexibility) or `histplot` (an axes-level function for histograms).\n",
            "  warnings.warn(msg, FutureWarning)\n"
          ]
        },
        {
          "output_type": "execute_result",
          "data": {
            "text/plain": [
              "<matplotlib.axes._subplots.AxesSubplot at 0x7f64fca40d50>"
            ]
          },
          "metadata": {},
          "execution_count": 25
        },
        {
          "output_type": "display_data",
          "data": {
            "image/png": "[encoded data removed]",
            "text/plain": [
              "<Figure size 576x576 with 1 Axes>"
            ]
          },
          "metadata": {
            "needs_background": "light"
          }
        }
      ]
    },
    {
      "cell_type": "code",
      "source": [
        "fig, ax=plt.subplots(figsize=(8,8))\n",
        "sns.distplot(heart_data. exercise_angina)"
      ],
      "metadata": {
        "colab": {
          "base_uri": "https://localhost:8080/",
          "height": 570
        },
        "id": "8_JNhBltNj0p",
        "outputId": "9cb3f4e1-111d-448f-f1b9-fbb66544b1b1"
      },
      "execution_count": 26,
      "outputs": [
        {
          "output_type": "stream",
          "name": "stderr",
          "text": [
            "/usr/local/lib/python3.7/dist-packages/seaborn/distributions.py:2619: FutureWarning: `distplot` is a deprecated function and will be removed in a future version. Please adapt your code to use either `displot` (a figure-level function with similar flexibility) or `histplot` (an axes-level function for histograms).\n",
            "  warnings.warn(msg, FutureWarning)\n"
          ]
        },
        {
          "output_type": "execute_result",
          "data": {
            "text/plain": [
              "<matplotlib.axes._subplots.AxesSubplot at 0x7f64fc88a2d0>"
            ]
          },
          "metadata": {},
          "execution_count": 26
        },
        {
          "output_type": "display_data",
          "data": {
            "image/png": "[encoded data removed]",
            "text/plain": [
              "<Figure size 576x576 with 1 Axes>"
            ]
          },
          "metadata": {
            "needs_background": "light"
          }
        }
      ]
    },
    {
      "cell_type": "code",
      "source": [
        "fig, ax=plt.subplots(figsize=(8,8))\n",
        "sns.distplot(heart_data. oldpeak)"
      ],
      "metadata": {
        "colab": {
          "base_uri": "https://localhost:8080/",
          "height": 568
        },
        "id": "PI1obniPNvSC",
        "outputId": "4ce5ea29-fe5e-44ca-ebab-c72b5fd99be6"
      },
      "execution_count": 27,
      "outputs": [
        {
          "output_type": "stream",
          "name": "stderr",
          "text": [
            "/usr/local/lib/python3.7/dist-packages/seaborn/distributions.py:2619: FutureWarning: `distplot` is a deprecated function and will be removed in a future version. Please adapt your code to use either `displot` (a figure-level function with similar flexibility) or `histplot` (an axes-level function for histograms).\n",
            "  warnings.warn(msg, FutureWarning)\n"
          ]
        },
        {
          "output_type": "execute_result",
          "data": {
            "text/plain": [
              "<matplotlib.axes._subplots.AxesSubplot at 0x7f64fc844490>"
            ]
          },
          "metadata": {},
          "execution_count": 27
        },
        {
          "output_type": "display_data",
          "data": {
            "image/png": "[encoded data removed]",
            "text/plain": [
              "<Figure size 576x576 with 1 Axes>"
            ]
          },
          "metadata": {
            "needs_background": "light"
          }
        }
      ]
    },
    {
      "cell_type": "code",
      "source": [
        "fig, ax=plt.subplots(figsize=(8,8))\n",
        "sns.distplot(heart_data. ST_slope)"
      ],
      "metadata": {
        "colab": {
          "base_uri": "https://localhost:8080/",
          "height": 570
        },
        "id": "EEQYpL2NN4Ue",
        "outputId": "21d84e5d-080a-4d29-b2ef-91b69b46da94"
      },
      "execution_count": 28,
      "outputs": [
        {
          "output_type": "stream",
          "name": "stderr",
          "text": [
            "/usr/local/lib/python3.7/dist-packages/seaborn/distributions.py:2619: FutureWarning: `distplot` is a deprecated function and will be removed in a future version. Please adapt your code to use either `displot` (a figure-level function with similar flexibility) or `histplot` (an axes-level function for histograms).\n",
            "  warnings.warn(msg, FutureWarning)\n"
          ]
        },
        {
          "output_type": "execute_result",
          "data": {
            "text/plain": [
              "<matplotlib.axes._subplots.AxesSubplot at 0x7f64fc74da90>"
            ]
          },
          "metadata": {},
          "execution_count": 28
        },
        {
          "output_type": "display_data",
          "data": {
            "image/png": "[encoded data removed]",
            "text/plain": [
              "<Figure size 576x576 with 1 Axes>"
            ]
          },
          "metadata": {
            "needs_background": "light"
          }
        }
      ]
    },
    {
      "cell_type": "code",
      "source": [
        "fig, ax=plt.subplots(figsize=(8,8))\n",
        "sns.distplot(heart_data. target)"
      ],
      "metadata": {
        "colab": {
          "base_uri": "https://localhost:8080/",
          "height": 568
        },
        "id": "YHbzxEQ8OFMI",
        "outputId": "a29c33b2-573b-4674-a60f-649f27e7d8b7"
      },
      "execution_count": 29,
      "outputs": [
        {
          "output_type": "stream",
          "name": "stderr",
          "text": [
            "/usr/local/lib/python3.7/dist-packages/seaborn/distributions.py:2619: FutureWarning: `distplot` is a deprecated function and will be removed in a future version. Please adapt your code to use either `displot` (a figure-level function with similar flexibility) or `histplot` (an axes-level function for histograms).\n",
            "  warnings.warn(msg, FutureWarning)\n"
          ]
        },
        {
          "output_type": "execute_result",
          "data": {
            "text/plain": [
              "<matplotlib.axes._subplots.AxesSubplot at 0x7f64fc67b9d0>"
            ]
          },
          "metadata": {},
          "execution_count": 29
        },
        {
          "output_type": "display_data",
          "data": {
            "image/png": "[encoded data removed]",
            "text/plain": [
              "<Figure size 576x576 with 1 Axes>"
            ]
          },
          "metadata": {
            "needs_background": "light"
          }
        }
      ]
    },
    {
      "cell_type": "markdown",
      "source": [
        "### Replacing the missing or outliers with mean value"
      ],
      "metadata": {
        "id": "PC9636piPujB"
      }
    },
    {
      "cell_type": "code",
      "source": [
        "heart_data['cholesterol']=heart_data['cholesterol'].replace(0,heart_data['cholesterol'].mean())"
      ],
      "metadata": {
        "id": "7lUPuKZbPtEs"
      },
      "execution_count": 5,
      "outputs": []
    },
    {
      "cell_type": "code",
      "source": [
        "fig, ax=plt.subplots(figsize=(8,8))\n",
        "sns.distplot(heart_data. cholesterol)"
      ],
      "metadata": {
        "colab": {
          "base_uri": "https://localhost:8080/",
          "height": 182
        },
        "id": "ufifh61nR-O3",
        "outputId": "d2463035-9392-4d87-9611-6467e23af9e2"
      },
      "execution_count": 6,
      "outputs": [
        {
          "output_type": "error",
          "ename": "NameError",
          "evalue": "ignored",
          "traceback": [
            "\u001b[0;31m---------------------------------------------------------------------------\u001b[0m",
            "\u001b[0;31mNameError\u001b[0m                                 Traceback (most recent call last)",
            "\u001b[0;32m<ipython-input-6-59ceaf638a51>\u001b[0m in \u001b[0;36m<module>\u001b[0;34m()\u001b[0m\n\u001b[0;32m----> 1\u001b[0;31m \u001b[0mfig\u001b[0m\u001b[0;34m,\u001b[0m \u001b[0max\u001b[0m\u001b[0;34m=\u001b[0m\u001b[0mplt\u001b[0m\u001b[0;34m.\u001b[0m\u001b[0msubplots\u001b[0m\u001b[0;34m(\u001b[0m\u001b[0mfigsize\u001b[0m\u001b[0;34m=\u001b[0m\u001b[0;34m(\u001b[0m\u001b[0;36m8\u001b[0m\u001b[0;34m,\u001b[0m\u001b[0;36m8\u001b[0m\u001b[0;34m)\u001b[0m\u001b[0;34m)\u001b[0m\u001b[0;34m\u001b[0m\u001b[0;34m\u001b[0m\u001b[0m\n\u001b[0m\u001b[1;32m      2\u001b[0m \u001b[0msns\u001b[0m\u001b[0;34m.\u001b[0m\u001b[0mdistplot\u001b[0m\u001b[0;34m(\u001b[0m\u001b[0mheart_data\u001b[0m\u001b[0;34m.\u001b[0m \u001b[0mcholesterol\u001b[0m\u001b[0;34m)\u001b[0m\u001b[0;34m\u001b[0m\u001b[0;34m\u001b[0m\u001b[0m\n",
            "\u001b[0;31mNameError\u001b[0m: name 'plt' is not defined"
          ]
        }
      ]
    },
    {
      "cell_type": "code",
      "source": [
        "heart_data"
      ],
      "metadata": {
        "colab": {
          "base_uri": "https://localhost:8080/",
          "height": 467
        },
        "id": "Ri_v2GFDSGOE",
        "outputId": "3ed27480-bcf9-46a5-9baf-7193b8f28d29"
      },
      "execution_count": 12,
      "outputs": [
        {
          "output_type": "execute_result",
          "data": {
            "text/html": [
              "\n",
              "  <div id=\"df-6e56e2d9-2618-445c-ab24-4ab585943c57\">\n",
              "    <div class=\"colab-df-container\">\n",
              "      <div>\n",
              "<style scoped>\n",
              "    .dataframe tbody tr th:only-of-type {\n",
              "        vertical-align: middle;\n",
              "    }\n",
              "\n",
              "    .dataframe tbody tr th {\n",
              "        vertical-align: top;\n",
              "    }\n",
              "\n",
              "    .dataframe thead th {\n",
              "        text-align: right;\n",
              "    }\n",
              "</style>\n",
              "<table border=\"1\" class=\"dataframe\">\n",
              "  <thead>\n",
              "    <tr style=\"text-align: right;\">\n",
              "      <th></th>\n",
              "      <th>age</th>\n",
              "      <th>sex</th>\n",
              "      <th>chest pain type</th>\n",
              "      <th>resting bp s</th>\n",
              "      <th>cholesterol</th>\n",
              "      <th>fasting blood sugar</th>\n",
              "      <th>resting ecg</th>\n",
              "      <th>max heart rate</th>\n",
              "      <th>exercise angina</th>\n",
              "      <th>oldpeak</th>\n",
              "      <th>ST slope</th>\n",
              "      <th>target</th>\n",
              "    </tr>\n",
              "  </thead>\n",
              "  <tbody>\n",
              "    <tr>\n",
              "      <th>0</th>\n",
              "      <td>40</td>\n",
              "      <td>1</td>\n",
              "      <td>2</td>\n",
              "      <td>140</td>\n",
              "      <td>289.0</td>\n",
              "      <td>0</td>\n",
              "      <td>0</td>\n",
              "      <td>172</td>\n",
              "      <td>0</td>\n",
              "      <td>0.0</td>\n",
              "      <td>1</td>\n",
              "      <td>0</td>\n",
              "    </tr>\n",
              "    <tr>\n",
              "      <th>1</th>\n",
              "      <td>49</td>\n",
              "      <td>0</td>\n",
              "      <td>3</td>\n",
              "      <td>160</td>\n",
              "      <td>180.0</td>\n",
              "      <td>0</td>\n",
              "      <td>0</td>\n",
              "      <td>156</td>\n",
              "      <td>0</td>\n",
              "      <td>1.0</td>\n",
              "      <td>2</td>\n",
              "      <td>1</td>\n",
              "    </tr>\n",
              "    <tr>\n",
              "      <th>2</th>\n",
              "      <td>37</td>\n",
              "      <td>1</td>\n",
              "      <td>2</td>\n",
              "      <td>130</td>\n",
              "      <td>283.0</td>\n",
              "      <td>0</td>\n",
              "      <td>1</td>\n",
              "      <td>98</td>\n",
              "      <td>0</td>\n",
              "      <td>0.0</td>\n",
              "      <td>1</td>\n",
              "      <td>0</td>\n",
              "    </tr>\n",
              "    <tr>\n",
              "      <th>3</th>\n",
              "      <td>48</td>\n",
              "      <td>0</td>\n",
              "      <td>4</td>\n",
              "      <td>138</td>\n",
              "      <td>214.0</td>\n",
              "      <td>0</td>\n",
              "      <td>0</td>\n",
              "      <td>108</td>\n",
              "      <td>1</td>\n",
              "      <td>1.5</td>\n",
              "      <td>2</td>\n",
              "      <td>1</td>\n",
              "    </tr>\n",
              "    <tr>\n",
              "      <th>4</th>\n",
              "      <td>54</td>\n",
              "      <td>1</td>\n",
              "      <td>3</td>\n",
              "      <td>150</td>\n",
              "      <td>195.0</td>\n",
              "      <td>0</td>\n",
              "      <td>0</td>\n",
              "      <td>122</td>\n",
              "      <td>0</td>\n",
              "      <td>0.0</td>\n",
              "      <td>1</td>\n",
              "      <td>0</td>\n",
              "    </tr>\n",
              "    <tr>\n",
              "      <th>...</th>\n",
              "      <td>...</td>\n",
              "      <td>...</td>\n",
              "      <td>...</td>\n",
              "      <td>...</td>\n",
              "      <td>...</td>\n",
              "      <td>...</td>\n",
              "      <td>...</td>\n",
              "      <td>...</td>\n",
              "      <td>...</td>\n",
              "      <td>...</td>\n",
              "      <td>...</td>\n",
              "      <td>...</td>\n",
              "    </tr>\n",
              "    <tr>\n",
              "      <th>1185</th>\n",
              "      <td>45</td>\n",
              "      <td>1</td>\n",
              "      <td>1</td>\n",
              "      <td>110</td>\n",
              "      <td>264.0</td>\n",
              "      <td>0</td>\n",
              "      <td>0</td>\n",
              "      <td>132</td>\n",
              "      <td>0</td>\n",
              "      <td>1.2</td>\n",
              "      <td>2</td>\n",
              "      <td>1</td>\n",
              "    </tr>\n",
              "    <tr>\n",
              "      <th>1186</th>\n",
              "      <td>68</td>\n",
              "      <td>1</td>\n",
              "      <td>4</td>\n",
              "      <td>144</td>\n",
              "      <td>193.0</td>\n",
              "      <td>1</td>\n",
              "      <td>0</td>\n",
              "      <td>141</td>\n",
              "      <td>0</td>\n",
              "      <td>3.4</td>\n",
              "      <td>2</td>\n",
              "      <td>1</td>\n",
              "    </tr>\n",
              "    <tr>\n",
              "      <th>1187</th>\n",
              "      <td>57</td>\n",
              "      <td>1</td>\n",
              "      <td>4</td>\n",
              "      <td>130</td>\n",
              "      <td>131.0</td>\n",
              "      <td>0</td>\n",
              "      <td>0</td>\n",
              "      <td>115</td>\n",
              "      <td>1</td>\n",
              "      <td>1.2</td>\n",
              "      <td>2</td>\n",
              "      <td>1</td>\n",
              "    </tr>\n",
              "    <tr>\n",
              "      <th>1188</th>\n",
              "      <td>57</td>\n",
              "      <td>0</td>\n",
              "      <td>2</td>\n",
              "      <td>130</td>\n",
              "      <td>236.0</td>\n",
              "      <td>0</td>\n",
              "      <td>2</td>\n",
              "      <td>174</td>\n",
              "      <td>0</td>\n",
              "      <td>0.0</td>\n",
              "      <td>2</td>\n",
              "      <td>1</td>\n",
              "    </tr>\n",
              "    <tr>\n",
              "      <th>1189</th>\n",
              "      <td>38</td>\n",
              "      <td>1</td>\n",
              "      <td>3</td>\n",
              "      <td>138</td>\n",
              "      <td>175.0</td>\n",
              "      <td>0</td>\n",
              "      <td>0</td>\n",
              "      <td>173</td>\n",
              "      <td>0</td>\n",
              "      <td>0.0</td>\n",
              "      <td>1</td>\n",
              "      <td>0</td>\n",
              "    </tr>\n",
              "  </tbody>\n",
              "</table>\n",
              "<p>1190 rows × 12 columns</p>\n",
              "</div>\n",
              "      <button class=\"colab-df-convert\" onclick=\"convertToInteractive('df-6e56e2d9-2618-445c-ab24-4ab585943c57')\"\n",
              "              title=\"Convert this dataframe to an interactive table.\"\n",
              "              style=\"display:none;\">\n",
              "        \n",
              "  <svg xmlns=\"http://www.w3.org/2000/svg\" height=\"24px\"viewBox=\"0 0 24 24\"\n",
              "       width=\"24px\">\n",
              "    <path d=\"M0 0h24v24H0V0z\" fill=\"none\"/>\n",
              "    <path d=\"M18.56 5.44l.94 2.06.94-2.06 2.06-.94-2.06-.94-.94-2.06-.94 2.06-2.06.94zm-11 1L8.5 8.5l.94-2.06 2.06-.94-2.06-.94L8.5 2.5l-.94 2.06-2.06.94zm10 10l.94 2.06.94-2.06 2.06-.94-2.06-.94-.94-2.06-.94 2.06-2.06.94z\"/><path d=\"M17.41 7.96l-1.37-1.37c-.4-.4-.92-.59-1.43-.59-.52 0-1.04.2-1.43.59L10.3 9.45l-7.72 7.72c-.78.78-.78 2.05 0 2.83L4 21.41c.39.39.9.59 1.41.59.51 0 1.02-.2 1.41-.59l7.78-7.78 2.81-2.81c.8-.78.8-2.07 0-2.86zM5.41 20L4 18.59l7.72-7.72 1.47 1.35L5.41 20z\"/>\n",
              "  </svg>\n",
              "      </button>\n",
              "      \n",
              "  <style>\n",
              "    .colab-df-container {\n",
              "      display:flex;\n",
              "      flex-wrap:wrap;\n",
              "      gap: 12px;\n",
              "    }\n",
              "\n",
              "    .colab-df-convert {\n",
              "      background-color: #E8F0FE;\n",
              "      border: none;\n",
              "      border-radius: 50%;\n",
              "      cursor: pointer;\n",
              "      display: none;\n",
              "      fill: #1967D2;\n",
              "      height: 32px;\n",
              "      padding: 0 0 0 0;\n",
              "      width: 32px;\n",
              "    }\n",
              "\n",
              "    .colab-df-convert:hover {\n",
              "      background-color: #E2EBFA;\n",
              "      box-shadow: 0px 1px 2px rgba(60, 64, 67, 0.3), 0px 1px 3px 1px rgba(60, 64, 67, 0.15);\n",
              "      fill: #174EA6;\n",
              "    }\n",
              "\n",
              "    [theme=dark] .colab-df-convert {\n",
              "      background-color: #3B4455;\n",
              "      fill: #D2E3FC;\n",
              "    }\n",
              "\n",
              "    [theme=dark] .colab-df-convert:hover {\n",
              "      background-color: #434B5C;\n",
              "      box-shadow: 0px 1px 3px 1px rgba(0, 0, 0, 0.15);\n",
              "      filter: drop-shadow(0px 1px 2px rgba(0, 0, 0, 0.3));\n",
              "      fill: #FFFFFF;\n",
              "    }\n",
              "  </style>\n",
              "\n",
              "      <script>\n",
              "        const buttonEl =\n",
              "          document.querySelector('#df-6e56e2d9-2618-445c-ab24-4ab585943c57 button.colab-df-convert');\n",
              "        buttonEl.style.display =\n",
              "          google.colab.kernel.accessAllowed ? 'block' : 'none';\n",
              "\n",
              "        async function convertToInteractive(key) {\n",
              "          const element = document.querySelector('#df-6e56e2d9-2618-445c-ab24-4ab585943c57');\n",
              "          const dataTable =\n",
              "            await google.colab.kernel.invokeFunction('convertToInteractive',\n",
              "                                                     [key], {});\n",
              "          if (!dataTable) return;\n",
              "\n",
              "          const docLinkHtml = 'Like what you see? Visit the ' +\n",
              "            '<a target=\"_blank\" href=https://colab.research.google.com/notebooks/data_table.ipynb>data table notebook</a>'\n",
              "            + ' to learn more about interactive tables.';\n",
              "          element.innerHTML = '';\n",
              "          dataTable['output_type'] = 'display_data';\n",
              "          await google.colab.output.renderOutput(dataTable, element);\n",
              "          const docLink = document.createElement('div');\n",
              "          docLink.innerHTML = docLinkHtml;\n",
              "          element.appendChild(docLink);\n",
              "        }\n",
              "      </script>\n",
              "    </div>\n",
              "  </div>\n",
              "  "
            ],
            "text/plain": [
              "      age  sex  chest pain type  ...  oldpeak  ST slope  target\n",
              "0      40    1                2  ...      0.0         1       0\n",
              "1      49    0                3  ...      1.0         2       1\n",
              "2      37    1                2  ...      0.0         1       0\n",
              "3      48    0                4  ...      1.5         2       1\n",
              "4      54    1                3  ...      0.0         1       0\n",
              "...   ...  ...              ...  ...      ...       ...     ...\n",
              "1185   45    1                1  ...      1.2         2       1\n",
              "1186   68    1                4  ...      3.4         2       1\n",
              "1187   57    1                4  ...      1.2         2       1\n",
              "1188   57    0                2  ...      0.0         2       1\n",
              "1189   38    1                3  ...      0.0         1       0\n",
              "\n",
              "[1190 rows x 12 columns]"
            ]
          },
          "metadata": {},
          "execution_count": 12
        }
      ]
    },
    {
      "cell_type": "code",
      "source": [
        "heart_data.std()"
      ],
      "metadata": {
        "colab": {
          "base_uri": "https://localhost:8080/"
        },
        "id": "sA1jxyJEOQSF",
        "outputId": "6d2097de-9a56-4005-8d63-210e13e2ed28"
      },
      "execution_count": 12,
      "outputs": [
        {
          "output_type": "execute_result",
          "data": {
            "text/plain": [
              "age                     9.358203\n",
              "sex                     0.424884\n",
              "chest_pain_type         0.935480\n",
              "resting_bp_s           18.368823\n",
              "cholesterol            54.398865\n",
              "fasting_blood_sugar     0.409912\n",
              "resting_ecg             0.870359\n",
              "max_heart_rate         25.517636\n",
              "exercise_angina         0.487360\n",
              "oldpeak                 1.086337\n",
              "ST_slope                0.610459\n",
              "target                  0.499393\n",
              "dtype: float64"
            ]
          },
          "metadata": {},
          "execution_count": 12
        }
      ]
    },
    {
      "cell_type": "code",
      "source": [
        "heart_data.shape"
      ],
      "metadata": {
        "colab": {
          "base_uri": "https://localhost:8080/"
        },
        "id": "EhvFDOXmQjs0",
        "outputId": "b3b1a52a-821b-47b2-852c-2aaa144481d8"
      },
      "execution_count": 37,
      "outputs": [
        {
          "output_type": "execute_result",
          "data": {
            "text/plain": [
              "(1190, 12)"
            ]
          },
          "metadata": {},
          "execution_count": 37
        }
      ]
    },
    {
      "cell_type": "code",
      "source": [
        "fig, ax=plt.subplots(figsize=(8,8))\n",
        "sns.distplot(heart_data. cholesterol)"
      ],
      "metadata": {
        "colab": {
          "base_uri": "https://localhost:8080/",
          "height": 568
        },
        "id": "p1g-vNLuRaAC",
        "outputId": "cc2f7ccf-ab57-4f21-b1d2-ded5c104aa72"
      },
      "execution_count": 40,
      "outputs": [
        {
          "output_type": "stream",
          "name": "stderr",
          "text": [
            "/usr/local/lib/python3.7/dist-packages/seaborn/distributions.py:2619: FutureWarning: `distplot` is a deprecated function and will be removed in a future version. Please adapt your code to use either `displot` (a figure-level function with similar flexibility) or `histplot` (an axes-level function for histograms).\n",
            "  warnings.warn(msg, FutureWarning)\n"
          ]
        },
        {
          "output_type": "execute_result",
          "data": {
            "text/plain": [
              "<matplotlib.axes._subplots.AxesSubplot at 0x7f64fc41cc50>"
            ]
          },
          "metadata": {},
          "execution_count": 40
        },
        {
          "output_type": "display_data",
          "data": {
            "image/png": "[encoded data removed]",
            "text/plain": [
              "<Figure size 576x576 with 1 Axes>"
            ]
          },
          "metadata": {
            "needs_background": "light"
          }
        }
      ]
    },
    {
      "cell_type": "code",
      "source": [
        "X=heart_data.drop(columns='target', axis=1)\n",
        "Y=heart_data['target']"
      ],
      "metadata": {
        "id": "Hqm5Cd02RjAv"
      },
      "execution_count": 8,
      "outputs": []
    },
    {
      "cell_type": "code",
      "source": [
        "print(X)"
      ],
      "metadata": {
        "colab": {
          "base_uri": "https://localhost:8080/"
        },
        "id": "Ugs0LDPWU1lK",
        "outputId": "9715fdca-493d-49ab-bc15-68ca36758372"
      },
      "execution_count": 35,
      "outputs": [
        {
          "output_type": "stream",
          "name": "stdout",
          "text": [
            "      age  sex  chest_pain_type  ...  exercise_angina  oldpeak  ST_slope\n",
            "0      40    1                2  ...                0      0.0         1\n",
            "1      49    0                3  ...                0      1.0         2\n",
            "2      37    1                2  ...                0      0.0         1\n",
            "3      48    0                4  ...                1      1.5         2\n",
            "4      54    1                3  ...                0      0.0         1\n",
            "...   ...  ...              ...  ...              ...      ...       ...\n",
            "1185   45    1                1  ...                0      1.2         2\n",
            "1186   68    1                4  ...                0      3.4         2\n",
            "1187   57    1                4  ...                1      1.2         2\n",
            "1188   57    0                2  ...                0      0.0         2\n",
            "1189   38    1                3  ...                0      0.0         1\n",
            "\n",
            "[1190 rows x 11 columns]\n"
          ]
        }
      ]
    },
    {
      "cell_type": "code",
      "source": [
        "print(Y)"
      ],
      "metadata": {
        "colab": {
          "base_uri": "https://localhost:8080/"
        },
        "id": "bIZO8OIZTJRW",
        "outputId": "740f147c-5a93-44cc-b00d-56466018b1d1"
      },
      "execution_count": 36,
      "outputs": [
        {
          "output_type": "stream",
          "name": "stdout",
          "text": [
            "0       0\n",
            "1       1\n",
            "2       0\n",
            "3       1\n",
            "4       0\n",
            "       ..\n",
            "1185    1\n",
            "1186    1\n",
            "1187    1\n",
            "1188    1\n",
            "1189    0\n",
            "Name: target, Length: 1190, dtype: int64\n"
          ]
        }
      ]
    },
    {
      "cell_type": "code",
      "source": [
        "heart_data['target'].value_counts()"
      ],
      "metadata": {
        "colab": {
          "base_uri": "https://localhost:8080/"
        },
        "id": "jji1qX72U7fi",
        "outputId": "1fc62735-5dc3-47e7-cd8f-c42a43d4c1d0"
      },
      "execution_count": 11,
      "outputs": [
        {
          "output_type": "execute_result",
          "data": {
            "text/plain": [
              "1    629\n",
              "0    561\n",
              "Name: target, dtype: int64"
            ]
          },
          "metadata": {},
          "execution_count": 11
        }
      ]
    },
    {
      "cell_type": "markdown",
      "source": [
        "#**using train test split**"
      ],
      "metadata": {
        "id": "okgI5meBGd1W"
      }
    },
    {
      "cell_type": "code",
      "source": [
        "X_train, X_test, Y_train, Y_test=train_test_split(X, Y, test_size=0.2, random_state=3)"
      ],
      "metadata": {
        "id": "IjXtUhM9qSw1"
      },
      "execution_count": 34,
      "outputs": []
    },
    {
      "cell_type": "code",
      "source": [
        "from sklearn.preprocessing import StandardScaler    \n",
        "st_x= StandardScaler()    \n",
        "X_train= st_x.fit_transform(X_train)    \n",
        "X_test= st_x.transform(X_test) "
      ],
      "metadata": {
        "id": "j50sif7xc2fv"
      },
      "execution_count": 29,
      "outputs": []
    },
    {
      "cell_type": "code",
      "source": [
        "print(X.shape, X_train.shape, X_test.shape)"
      ],
      "metadata": {
        "colab": {
          "base_uri": "https://localhost:8080/"
        },
        "id": "FOJmGLVktP72",
        "outputId": "0d25fc46-51a7-42ee-bc3e-b82960c5bc50"
      },
      "execution_count": 23,
      "outputs": [
        {
          "output_type": "stream",
          "name": "stdout",
          "text": [
            "(1190, 11) (952, 11) (238, 11)\n"
          ]
        }
      ]
    },
    {
      "cell_type": "code",
      "source": [
        "print(X_train)"
      ],
      "metadata": {
        "colab": {
          "base_uri": "https://localhost:8080/"
        },
        "id": "ZT2rkzxcdBBD",
        "outputId": "c7f32266-f9a0-48b4-ac14-11cafdebb48f"
      },
      "execution_count": 30,
      "outputs": [
        {
          "output_type": "stream",
          "name": "stdout",
          "text": [
            "[[ 1.42574033  0.56279288  0.81003402 ... -0.79733232  0.04537337\n",
            "   0.60519586]\n",
            " [ 0.13460616  0.56279288  0.81003402 ...  1.25418219  0.22498021\n",
            "   0.60519586]\n",
            " [-2.44766218 -1.77685262 -1.34101866 ... -0.79733232 -0.85266085\n",
            "  -1.04093689]\n",
            " ...\n",
            " [-0.08058287 -1.77685262 -0.26549232 ... -0.79733232 -0.85266085\n",
            "  -1.04093689]\n",
            " [-0.08058287 -1.77685262  0.81003402 ... -0.79733232 -0.49344716\n",
            "   0.60519586]\n",
            " [ 0.67257873  0.56279288  0.81003402 ...  1.25418219  1.66183496\n",
            "   0.60519586]]\n"
          ]
        }
      ]
    },
    {
      "cell_type": "code",
      "source": [
        "print(Y.shape, Y_train.shape, Y_test.shape)"
      ],
      "metadata": {
        "colab": {
          "base_uri": "https://localhost:8080/"
        },
        "id": "eD_zXLDGRxg4",
        "outputId": "2377da75-7bb3-4d86-8c79-bf302033e3b7"
      },
      "execution_count": 25,
      "outputs": [
        {
          "output_type": "stream",
          "name": "stdout",
          "text": [
            "(1190,) (952,) (238,)\n"
          ]
        }
      ]
    },
    {
      "cell_type": "code",
      "source": [
        "from sklearn.linear_model import LogisticRegression\n",
        "from sklearn.metrics import accuracy_score"
      ],
      "metadata": {
        "id": "arrsLeejulg4"
      },
      "execution_count": 15,
      "outputs": []
    },
    {
      "cell_type": "code",
      "source": [
        "model=LogisticRegression(max_iter=1000, random_state=0)"
      ],
      "metadata": {
        "id": "YhaDxCITu0kW"
      },
      "execution_count": 87,
      "outputs": []
    },
    {
      "cell_type": "code",
      "source": [
        "model.fit(X_train, Y_train)"
      ],
      "metadata": {
        "colab": {
          "base_uri": "https://localhost:8080/"
        },
        "id": "9wNgxWScva2M",
        "outputId": "dbd4718d-b857-4a81-ff47-3be3c67ce738"
      },
      "execution_count": 88,
      "outputs": [
        {
          "output_type": "execute_result",
          "data": {
            "text/plain": [
              "LogisticRegression(max_iter=1000, random_state=0)"
            ]
          },
          "metadata": {},
          "execution_count": 88
        }
      ]
    },
    {
      "cell_type": "code",
      "source": [
        "X_train_prediction=model.predict(X_train)\n",
        "training_data_accu=accuracy_score(X_train_prediction, Y_train)\n"
      ],
      "metadata": {
        "id": "9dcHAPL7vluU"
      },
      "execution_count": 89,
      "outputs": []
    },
    {
      "cell_type": "code",
      "source": [
        "print(training_data_accu)"
      ],
      "metadata": {
        "colab": {
          "base_uri": "https://localhost:8080/"
        },
        "id": "-X6ThByndMrg",
        "outputId": "02db22ce-d4cb-48c1-8b0f-51f92bec926a"
      },
      "execution_count": 90,
      "outputs": [
        {
          "output_type": "stream",
          "name": "stdout",
          "text": [
            "0.8392857142857143\n"
          ]
        }
      ]
    },
    {
      "cell_type": "code",
      "source": [
        "X_test_prediction=model.predict(X_test)\n",
        "training_data_accu=accuracy_score(X_test_prediction, Y_test)\n",
        "print(training_data_accu)"
      ],
      "metadata": {
        "colab": {
          "base_uri": "https://localhost:8080/"
        },
        "id": "KWcehw55TcQU",
        "outputId": "1ca6b21a-dc27-4dd4-908d-40acf7dfcc9d"
      },
      "execution_count": 91,
      "outputs": [
        {
          "output_type": "stream",
          "name": "stdout",
          "text": [
            "0.8109243697478992\n"
          ]
        }
      ]
    },
    {
      "cell_type": "code",
      "source": [
        "#Fitting Decision Tree classifier to the training set  \n",
        "from sklearn.ensemble import RandomForestClassifier  \n"
      ],
      "metadata": {
        "id": "NwYrAhqtU25P"
      },
      "execution_count": 16,
      "outputs": []
    },
    {
      "cell_type": "code",
      "source": [
        "classifier= RandomForestClassifier(n_estimators= 10, criterion=\"entropy\")  \n"
      ],
      "metadata": {
        "id": "7I6hBCWLU6kG"
      },
      "execution_count": 97,
      "outputs": []
    },
    {
      "cell_type": "code",
      "source": [
        "classifier.fit(X_train, Y_train)  "
      ],
      "metadata": {
        "colab": {
          "base_uri": "https://localhost:8080/"
        },
        "id": "M3fAyPFEU9i3",
        "outputId": "a095ba7b-b0c6-4de8-a7d1-dd0960f38bc9"
      },
      "execution_count": 98,
      "outputs": [
        {
          "output_type": "execute_result",
          "data": {
            "text/plain": [
              "RandomForestClassifier(criterion='entropy', n_estimators=10)"
            ]
          },
          "metadata": {},
          "execution_count": 98
        }
      ]
    },
    {
      "cell_type": "code",
      "source": [
        "X_train_prediction_ran=classifier.predict(X_train)\n",
        "training_data_accu=accuracy_score(X_train_prediction_ran, Y_train)\n"
      ],
      "metadata": {
        "id": "PZxh4wzbVCbv"
      },
      "execution_count": 99,
      "outputs": []
    },
    {
      "cell_type": "code",
      "source": [
        "print(training_data_accu)"
      ],
      "metadata": {
        "colab": {
          "base_uri": "https://localhost:8080/"
        },
        "id": "-hHqOSCHVU0Y",
        "outputId": "9414d857-95b4-4a88-9a01-0763a4a35203"
      },
      "execution_count": 100,
      "outputs": [
        {
          "output_type": "stream",
          "name": "stdout",
          "text": [
            "0.9936974789915967\n"
          ]
        }
      ]
    },
    {
      "cell_type": "code",
      "source": [
        "X_test_prediction_ran=classifier.predict(X_test)\n",
        "training_data_accu_ran=accuracy_score(X_test_prediction_ran, Y_test)\n"
      ],
      "metadata": {
        "id": "Tc7qU9qsVcFp"
      },
      "execution_count": 101,
      "outputs": []
    },
    {
      "cell_type": "code",
      "source": [
        "print(training_data_accu_ran)"
      ],
      "metadata": {
        "colab": {
          "base_uri": "https://localhost:8080/"
        },
        "id": "tZA9WBCwVoGo",
        "outputId": "f85643b3-1880-4dcc-9f92-6b5309426cb7"
      },
      "execution_count": 102,
      "outputs": [
        {
          "output_type": "stream",
          "name": "stdout",
          "text": [
            "0.8865546218487395\n"
          ]
        }
      ]
    },
    {
      "cell_type": "code",
      "source": [
        "from sklearn.svm import SVC # \"Support vector classifier\"  \n",
        "classifier = SVC(kernel='linear', random_state=0)  \n"
      ],
      "metadata": {
        "id": "LhfSOyT_fLeN"
      },
      "execution_count": 17,
      "outputs": []
    },
    {
      "cell_type": "code",
      "source": [
        "classifier.fit(X_train, Y_train)  "
      ],
      "metadata": {
        "colab": {
          "base_uri": "https://localhost:8080/"
        },
        "id": "3fqnRqBUDTJE",
        "outputId": "c617fbea-0424-4f56-d33a-8dd8432a13e1"
      },
      "execution_count": 18,
      "outputs": [
        {
          "output_type": "execute_result",
          "data": {
            "text/plain": [
              "SVC(kernel='linear', random_state=0)"
            ]
          },
          "metadata": {},
          "execution_count": 18
        }
      ]
    },
    {
      "cell_type": "code",
      "source": [
        "X_train_prediction_svc=classifier.predict(X_train)\n",
        "training_data_accu_svc=accuracy_score(X_train_prediction_svc, Y_train)"
      ],
      "metadata": {
        "id": "rrdeHBMXfcVE"
      },
      "execution_count": 130,
      "outputs": []
    },
    {
      "cell_type": "code",
      "source": [
        "print(training_data_accu_svc)"
      ],
      "metadata": {
        "colab": {
          "base_uri": "https://localhost:8080/"
        },
        "id": "-blHk3iofkHc",
        "outputId": "a12c1127-1a2d-442a-cfde-4298fa595b6f"
      },
      "execution_count": 131,
      "outputs": [
        {
          "output_type": "stream",
          "name": "stdout",
          "text": [
            "0.8392857142857143\n"
          ]
        }
      ]
    },
    {
      "cell_type": "code",
      "source": [
        "#Fitting Decision Tree classifier to the training set  \n",
        "from sklearn.tree import DecisionTreeClassifier\n",
        "classifier= DecisionTreeClassifier(criterion='gini', random_state=2)  \n",
        "classifier.fit(X_train, Y_train)  "
      ],
      "metadata": {
        "colab": {
          "base_uri": "https://localhost:8080/"
        },
        "id": "peIoqryAkZ-X",
        "outputId": "a44fbcd1-6261-4373-c56e-9562870ea55b"
      },
      "execution_count": 132,
      "outputs": [
        {
          "output_type": "execute_result",
          "data": {
            "text/plain": [
              "DecisionTreeClassifier(random_state=2)"
            ]
          },
          "metadata": {},
          "execution_count": 132
        }
      ]
    },
    {
      "cell_type": "code",
      "source": [
        "X_train_prediction_svc=classifier.predict(X_train)\n",
        "training_data_accu_svc=accuracy_score(X_train_prediction_svc, Y_train)"
      ],
      "metadata": {
        "id": "_4qm8E8wk7QT"
      },
      "execution_count": 133,
      "outputs": []
    },
    {
      "cell_type": "code",
      "source": [
        "print(training_data_accu_svc)"
      ],
      "metadata": {
        "colab": {
          "base_uri": "https://localhost:8080/"
        },
        "id": "YOkDPjDSlB-0",
        "outputId": "f29d594e-251c-4d58-daa7-0a9908d5a0dc"
      },
      "execution_count": 134,
      "outputs": [
        {
          "output_type": "stream",
          "name": "stdout",
          "text": [
            "1.0\n"
          ]
        }
      ]
    },
    {
      "cell_type": "code",
      "source": [
        "models=[LogisticRegression(max_iter=1000, random_state=0),RandomForestClassifier(n_estimators= 10, criterion=\"entropy\"),SVC(kernel='linear', random_state=0)]"
      ],
      "metadata": {
        "id": "hpXVqwFrlCHf"
      },
      "execution_count": 26,
      "outputs": []
    },
    {
      "cell_type": "markdown",
      "source": [
        "#Comparing  invidually"
      ],
      "metadata": {
        "id": "ZCbSz5fCDZ-_"
      }
    },
    {
      "cell_type": "code",
      "source": [
        "def compare_model():\n",
        "  for model in models:\n",
        "    model.fit(X_train, Y_train)\n",
        "    test_pred=model.predict(X_test)\n",
        "    accu=accuracy_score(Y_test, test_pred)\n",
        "    print(\"Accuracy of \",model,\"= \",accu)"
      ],
      "metadata": {
        "id": "qLyqJ-7ZDYmM"
      },
      "execution_count": 31,
      "outputs": []
    },
    {
      "cell_type": "code",
      "source": [
        "compare_model()"
      ],
      "metadata": {
        "colab": {
          "base_uri": "https://localhost:8080/"
        },
        "id": "jJvdwJ0hDY2S",
        "outputId": "a827d3a1-8685-47a3-f752-5f7fd5cf4c9b"
      },
      "execution_count": 32,
      "outputs": [
        {
          "output_type": "stream",
          "name": "stdout",
          "text": [
            "Accuracy of  LogisticRegression(max_iter=1000, random_state=0) =  0.8151260504201681\n",
            "Accuracy of  RandomForestClassifier(criterion='entropy', n_estimators=10) =  0.8445378151260504\n",
            "Accuracy of  SVC(kernel='linear', random_state=0) =  0.8151260504201681\n"
          ]
        }
      ]
    },
    {
      "cell_type": "markdown",
      "source": [
        "#comparing using cross validation"
      ],
      "metadata": {
        "id": "IgGsKIjZF7pP"
      }
    },
    {
      "cell_type": "code",
      "source": [
        "from sklearn.model_selection import cross_val_score"
      ],
      "metadata": {
        "id": "52qCgO3BF7Bp"
      },
      "execution_count": 33,
      "outputs": []
    },
    {
      "cell_type": "code",
      "source": [
        "cv_score_lr=cross_val_score(LogisticRegression(max_iter=1000, random_state=0), X, Y, cv=5)"
      ],
      "metadata": {
        "id": "5Z2zEzwXGKov"
      },
      "execution_count": 39,
      "outputs": []
    },
    {
      "cell_type": "code",
      "source": [
        "print(cv_score_lr)\n",
        "\n",
        "mean=sum(cv_score_lr)/len(cv_score_lr)\n",
        "\n",
        "mean=mean*100\n",
        "\n",
        "mean=round(mean, 2)\n",
        "\n",
        "print(mean)"
      ],
      "metadata": {
        "colab": {
          "base_uri": "https://localhost:8080/"
        },
        "id": "DOmYHuXfHXDn",
        "outputId": "a4ad94af-b1a3-42ca-a128-3ec5af142224"
      },
      "execution_count": 40,
      "outputs": [
        {
          "output_type": "stream",
          "name": "stdout",
          "text": [
            "[0.84453782 0.81932773 0.8487395  0.76890756 0.79411765]\n",
            "81.51\n"
          ]
        }
      ]
    },
    {
      "cell_type": "code",
      "source": [
        "cv_score_lr=cross_val_score(RandomForestClassifier(criterion='entropy', n_estimators=10), X, Y, cv=5)"
      ],
      "metadata": {
        "id": "FEG17yGPImDZ"
      },
      "execution_count": 41,
      "outputs": []
    },
    {
      "cell_type": "code",
      "source": [
        "print(cv_score_lr)\n",
        "\n",
        "mean=sum(cv_score_lr)/len(cv_score_lr)\n",
        "\n",
        "mean=mean*100\n",
        "\n",
        "mean=round(mean, 2)\n",
        "\n",
        "print(mean)"
      ],
      "metadata": {
        "colab": {
          "base_uri": "https://localhost:8080/"
        },
        "id": "p1skoW16Izwy",
        "outputId": "5657f07e-da7d-4ff0-e536-761e2f8be7b4"
      },
      "execution_count": 42,
      "outputs": [
        {
          "output_type": "stream",
          "name": "stdout",
          "text": [
            "[0.88655462 0.85714286 0.92857143 0.91176471 0.94957983]\n",
            "90.67\n"
          ]
        }
      ]
    },
    {
      "cell_type": "code",
      "source": [
        "cv_score_lr=cross_val_score(SVC(kernel='linear', random_state=0), X, Y, cv=5)"
      ],
      "metadata": {
        "id": "uGO4ERyWI6f6"
      },
      "execution_count": 43,
      "outputs": []
    },
    {
      "cell_type": "code",
      "source": [
        "print(cv_score_lr)\n",
        "\n",
        "mean=sum(cv_score_lr)/len(cv_score_lr)\n",
        "\n",
        "mean=mean*100\n",
        "\n",
        "mean=round(mean, 2)\n",
        "\n",
        "print(mean)"
      ],
      "metadata": {
        "colab": {
          "base_uri": "https://localhost:8080/"
        },
        "id": "m-FPwvvAJH-A",
        "outputId": "42f93090-331f-4b3e-e9e2-a3f32f534459"
      },
      "execution_count": 44,
      "outputs": [
        {
          "output_type": "stream",
          "name": "stdout",
          "text": [
            "[0.85714286 0.84033613 0.85294118 0.76890756 0.80252101]\n",
            "82.44\n"
          ]
        }
      ]
    },
    {
      "cell_type": "code",
      "source": [
        "models=[LogisticRegression(max_iter=1000, random_state=0),RandomForestClassifier(n_estimators= 10, criterion=\"entropy\"),SVC(kernel='linear', random_state=0)]\n",
        "def compare_score_cv_score():\n",
        "  for model in models:\n",
        "    cv_score_compare=cross_val_score(model, X ,Y, cv=5)\n",
        "    mean=sum(cv_score_compare)/len(cv_score_compare)\n",
        "\n",
        "    mean=mean*100\n",
        "\n",
        "    mean=round(mean, 2)\n",
        "\n",
        "    print(\"Cross validation score for the \",model,\"= \",cv_score_compare)\n",
        "    print(\"Mean Accuracy of the \",model,\"= \",mean)\n",
        "    print(\"...................................................................\")"
      ],
      "metadata": {
        "id": "EJ6fKijEJnlc"
      },
      "execution_count": 45,
      "outputs": []
    },
    {
      "cell_type": "code",
      "source": [
        "compare_score_cv_score()"
      ],
      "metadata": {
        "colab": {
          "base_uri": "https://localhost:8080/"
        },
        "id": "XFhvDpm7LQSH",
        "outputId": "9679dfc9-225a-454a-cf9b-ac6632813911"
      },
      "execution_count": 46,
      "outputs": [
        {
          "output_type": "stream",
          "name": "stdout",
          "text": [
            "Cross validation score for the  LogisticRegression(max_iter=1000, random_state=0) =  [0.84453782 0.81932773 0.8487395  0.76890756 0.79411765]\n",
            "Mean Accuracy of the  LogisticRegression(max_iter=1000, random_state=0) =  81.51\n",
            "...................................................................\n",
            "Cross validation score for the  RandomForestClassifier(criterion='entropy', n_estimators=10) =  [0.85294118 0.85294118 0.94537815 0.91176471 0.94537815]\n",
            "Mean Accuracy of the  RandomForestClassifier(criterion='entropy', n_estimators=10) =  90.17\n",
            "...................................................................\n",
            "Cross validation score for the  SVC(kernel='linear', random_state=0) =  [0.85714286 0.84033613 0.85294118 0.76890756 0.80252101]\n",
            "Mean Accuracy of the  SVC(kernel='linear', random_state=0) =  82.44\n",
            "...................................................................\n"
          ]
        }
      ]
    },
    {
      "cell_type": "markdown",
      "source": [
        "#prediction"
      ],
      "metadata": {
        "id": "8KGI7WSsHMC0"
      }
    },
    {
      "cell_type": "code",
      "source": [
        "input_data=(54,1,4,140,166,0,0,118,1,0,2)\n",
        "\n",
        "input_numpy=np.asarray(input_data)\n",
        "\n",
        "input_reshape=input_numpy.reshape(1,-1)\n",
        "\n",
        "\n",
        "prediction_ran=classifier.predict(input_reshape)\n",
        "\n",
        "print(prediction_ran)"
      ],
      "metadata": {
        "colab": {
          "base_uri": "https://localhost:8080/"
        },
        "id": "2ObJp0XsWLKI",
        "outputId": "b95771fe-14c6-41c9-cd91-489378a285ae"
      },
      "execution_count": 114,
      "outputs": [
        {
          "output_type": "stream",
          "name": "stdout",
          "text": [
            "[1]\n"
          ]
        }
      ]
    }
  ]
}